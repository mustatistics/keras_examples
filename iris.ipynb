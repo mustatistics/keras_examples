{
 "cells": [
  {
   "cell_type": "code",
   "execution_count": 1,
   "id": "71b12b43",
   "metadata": {},
   "outputs": [],
   "source": [
    "import numpy as np\n",
    "from sklearn import datasets\n",
    "from keras.models import Sequential\n",
    "from keras.layers import Dense\n",
    "from keras.utils.np_utils import to_categorical\n",
    "from keras.optimizers import Adam"
   ]
  },
  {
   "cell_type": "code",
   "execution_count": 2,
   "id": "43662050",
   "metadata": {},
   "outputs": [
    {
     "data": {
      "text/plain": [
       "array([[5.1, 3.5, 1.4, 0.2],\n",
       "       [4.9, 3. , 1.4, 0.2],\n",
       "       [4.7, 3.2, 1.3, 0.2]])"
      ]
     },
     "execution_count": 2,
     "metadata": {},
     "output_type": "execute_result"
    }
   ],
   "source": [
    "iris = datasets.load_iris()\n",
    "iris.data[:3]"
   ]
  },
  {
   "cell_type": "code",
   "execution_count": 3,
   "id": "9d2bf7fe",
   "metadata": {},
   "outputs": [
    {
     "data": {
      "text/plain": [
       "array([0, 0, 0])"
      ]
     },
     "execution_count": 3,
     "metadata": {},
     "output_type": "execute_result"
    }
   ],
   "source": [
    "iris.target[:3]"
   ]
  },
  {
   "cell_type": "code",
   "execution_count": 6,
   "id": "7559ad1c",
   "metadata": {},
   "outputs": [],
   "source": [
    "model = Sequential()\n",
    "\n",
    "model.add(Dense(8, activation='relu', input_dim=4))\n",
    "model.add(Dense(12, activation='relu'))\n",
    "model.add(Dense(8, activation='relu'))\n",
    "model.add(Dense(3, activation='softmax')) # 0: setosa, 1: versicolor, 2: virginica\n",
    "\n",
    "opt = Adam(learning_rate = 0.001)\n",
    "\n",
    "model.compile(\n",
    "    optimizer=opt, \n",
    "    loss='categorical_crossentropy',\n",
    "    metrics = ['accuracy']\n",
    ")"
   ]
  },
  {
   "cell_type": "code",
   "execution_count": 7,
   "id": "f7138d11",
   "metadata": {},
   "outputs": [],
   "source": [
    "X_train = iris.data\n",
    "y_train = to_categorical(iris.target)"
   ]
  },
  {
   "cell_type": "code",
   "execution_count": 8,
   "id": "a4e9faca",
   "metadata": {},
   "outputs": [],
   "source": [
    "shuffle = np.random.permutation(y_train.shape[0])\n",
    "X_train = X_train[shuffle]\n",
    "y_train = y_train[shuffle]"
   ]
  },
  {
   "cell_type": "code",
   "execution_count": 9,
   "id": "1bbf79c2",
   "metadata": {},
   "outputs": [
    {
     "name": "stdout",
     "output_type": "stream",
     "text": [
      "Epoch 1/100\n",
      "3/3 [==============================] - 1s 119ms/step - loss: 1.1946 - accuracy: 0.3474 - val_loss: 1.1157 - val_accuracy: 0.3654\n",
      "Epoch 2/100\n",
      "3/3 [==============================] - 0s 12ms/step - loss: 1.1612 - accuracy: 0.4000 - val_loss: 1.0916 - val_accuracy: 0.5577\n",
      "Epoch 3/100\n",
      "3/3 [==============================] - 0s 13ms/step - loss: 1.1368 - accuracy: 0.5684 - val_loss: 1.0796 - val_accuracy: 0.6923\n",
      "Epoch 4/100\n",
      "3/3 [==============================] - 0s 13ms/step - loss: 1.1222 - accuracy: 0.6316 - val_loss: 1.0724 - val_accuracy: 0.7115\n",
      "Epoch 5/100\n",
      "3/3 [==============================] - 0s 14ms/step - loss: 1.1142 - accuracy: 0.6316 - val_loss: 1.0669 - val_accuracy: 0.7115\n",
      "Epoch 6/100\n",
      "3/3 [==============================] - 0s 12ms/step - loss: 1.1052 - accuracy: 0.6211 - val_loss: 1.0630 - val_accuracy: 0.6923\n",
      "Epoch 7/100\n",
      "3/3 [==============================] - 0s 11ms/step - loss: 1.0967 - accuracy: 0.6105 - val_loss: 1.0598 - val_accuracy: 0.6731\n",
      "Epoch 8/100\n",
      "3/3 [==============================] - 0s 13ms/step - loss: 1.0911 - accuracy: 0.6105 - val_loss: 1.0568 - val_accuracy: 0.6731\n",
      "Epoch 9/100\n",
      "3/3 [==============================] - 0s 11ms/step - loss: 1.0850 - accuracy: 0.6000 - val_loss: 1.0539 - val_accuracy: 0.6731\n",
      "Epoch 10/100\n",
      "3/3 [==============================] - 0s 13ms/step - loss: 1.0795 - accuracy: 0.6000 - val_loss: 1.0511 - val_accuracy: 0.6731\n",
      "Epoch 11/100\n",
      "3/3 [==============================] - 0s 13ms/step - loss: 1.0749 - accuracy: 0.6105 - val_loss: 1.0481 - val_accuracy: 0.6923\n",
      "Epoch 12/100\n",
      "3/3 [==============================] - 0s 14ms/step - loss: 1.0699 - accuracy: 0.6105 - val_loss: 1.0452 - val_accuracy: 0.7115\n",
      "Epoch 13/100\n",
      "3/3 [==============================] - 0s 13ms/step - loss: 1.0651 - accuracy: 0.6316 - val_loss: 1.0421 - val_accuracy: 0.7115\n",
      "Epoch 14/100\n",
      "3/3 [==============================] - 0s 12ms/step - loss: 1.0610 - accuracy: 0.6316 - val_loss: 1.0393 - val_accuracy: 0.7115\n",
      "Epoch 15/100\n",
      "3/3 [==============================] - 0s 10ms/step - loss: 1.0567 - accuracy: 0.6421 - val_loss: 1.0363 - val_accuracy: 0.7115\n",
      "Epoch 16/100\n",
      "3/3 [==============================] - 0s 11ms/step - loss: 1.0528 - accuracy: 0.6421 - val_loss: 1.0334 - val_accuracy: 0.7115\n",
      "Epoch 17/100\n",
      "3/3 [==============================] - 0s 11ms/step - loss: 1.0488 - accuracy: 0.6421 - val_loss: 1.0305 - val_accuracy: 0.7115\n",
      "Epoch 18/100\n",
      "3/3 [==============================] - 0s 12ms/step - loss: 1.0449 - accuracy: 0.6421 - val_loss: 1.0275 - val_accuracy: 0.7115\n",
      "Epoch 19/100\n",
      "3/3 [==============================] - 0s 13ms/step - loss: 1.0409 - accuracy: 0.6421 - val_loss: 1.0243 - val_accuracy: 0.7115\n",
      "Epoch 20/100\n",
      "3/3 [==============================] - 0s 14ms/step - loss: 1.0369 - accuracy: 0.6421 - val_loss: 1.0207 - val_accuracy: 0.7115\n",
      "Epoch 21/100\n",
      "3/3 [==============================] - 0s 13ms/step - loss: 1.0328 - accuracy: 0.6421 - val_loss: 1.0173 - val_accuracy: 0.7308\n",
      "Epoch 22/100\n",
      "3/3 [==============================] - 0s 14ms/step - loss: 1.0284 - accuracy: 0.6526 - val_loss: 1.0128 - val_accuracy: 0.7500\n",
      "Epoch 23/100\n",
      "3/3 [==============================] - 0s 18ms/step - loss: 1.0238 - accuracy: 0.6526 - val_loss: 1.0080 - val_accuracy: 0.7885\n",
      "Epoch 24/100\n",
      "3/3 [==============================] - 0s 13ms/step - loss: 1.0186 - accuracy: 0.6526 - val_loss: 1.0028 - val_accuracy: 0.7885\n",
      "Epoch 25/100\n",
      "3/3 [==============================] - 0s 12ms/step - loss: 1.0136 - accuracy: 0.6632 - val_loss: 0.9973 - val_accuracy: 0.7885\n",
      "Epoch 26/100\n",
      "3/3 [==============================] - 0s 11ms/step - loss: 1.0089 - accuracy: 0.6632 - val_loss: 0.9920 - val_accuracy: 0.7885\n",
      "Epoch 27/100\n",
      "3/3 [==============================] - 0s 12ms/step - loss: 1.0038 - accuracy: 0.6737 - val_loss: 0.9869 - val_accuracy: 0.7885\n",
      "Epoch 28/100\n",
      "3/3 [==============================] - 0s 10ms/step - loss: 0.9984 - accuracy: 0.6842 - val_loss: 0.9825 - val_accuracy: 0.8077\n",
      "Epoch 29/100\n",
      "3/3 [==============================] - 0s 11ms/step - loss: 0.9932 - accuracy: 0.7158 - val_loss: 0.9782 - val_accuracy: 0.8077\n",
      "Epoch 30/100\n",
      "3/3 [==============================] - 0s 11ms/step - loss: 0.9875 - accuracy: 0.8000 - val_loss: 0.9735 - val_accuracy: 0.8654\n",
      "Epoch 31/100\n",
      "3/3 [==============================] - 0s 13ms/step - loss: 0.9824 - accuracy: 0.8211 - val_loss: 0.9689 - val_accuracy: 0.9038\n",
      "Epoch 32/100\n",
      "3/3 [==============================] - 0s 10ms/step - loss: 0.9765 - accuracy: 0.8632 - val_loss: 0.9621 - val_accuracy: 0.9038\n",
      "Epoch 33/100\n",
      "3/3 [==============================] - 0s 12ms/step - loss: 0.9702 - accuracy: 0.8632 - val_loss: 0.9554 - val_accuracy: 0.9038\n",
      "Epoch 34/100\n",
      "3/3 [==============================] - 0s 13ms/step - loss: 0.9639 - accuracy: 0.8737 - val_loss: 0.9493 - val_accuracy: 0.9423\n",
      "Epoch 35/100\n",
      "3/3 [==============================] - 0s 14ms/step - loss: 0.9570 - accuracy: 0.8947 - val_loss: 0.9430 - val_accuracy: 0.9423\n",
      "Epoch 36/100\n",
      "3/3 [==============================] - 0s 13ms/step - loss: 0.9504 - accuracy: 0.9158 - val_loss: 0.9361 - val_accuracy: 0.9808\n",
      "Epoch 37/100\n",
      "3/3 [==============================] - 0s 13ms/step - loss: 0.9428 - accuracy: 0.9368 - val_loss: 0.9280 - val_accuracy: 0.9808\n",
      "Epoch 38/100\n",
      "3/3 [==============================] - 0s 14ms/step - loss: 0.9358 - accuracy: 0.9158 - val_loss: 0.9189 - val_accuracy: 0.9615\n",
      "Epoch 39/100\n",
      "3/3 [==============================] - 0s 17ms/step - loss: 0.9279 - accuracy: 0.9158 - val_loss: 0.9109 - val_accuracy: 0.9615\n",
      "Epoch 40/100\n",
      "3/3 [==============================] - 0s 17ms/step - loss: 0.9197 - accuracy: 0.9263 - val_loss: 0.9035 - val_accuracy: 1.0000\n",
      "Epoch 41/100\n",
      "3/3 [==============================] - 0s 12ms/step - loss: 0.9112 - accuracy: 0.9368 - val_loss: 0.8943 - val_accuracy: 1.0000\n",
      "Epoch 42/100\n",
      "3/3 [==============================] - 0s 13ms/step - loss: 0.9025 - accuracy: 0.9368 - val_loss: 0.8848 - val_accuracy: 1.0000\n",
      "Epoch 43/100\n",
      "3/3 [==============================] - 0s 11ms/step - loss: 0.8936 - accuracy: 0.9263 - val_loss: 0.8743 - val_accuracy: 1.0000\n",
      "Epoch 44/100\n",
      "3/3 [==============================] - 0s 13ms/step - loss: 0.8838 - accuracy: 0.9263 - val_loss: 0.8647 - val_accuracy: 1.0000\n",
      "Epoch 45/100\n",
      "3/3 [==============================] - 0s 11ms/step - loss: 0.8742 - accuracy: 0.9368 - val_loss: 0.8553 - val_accuracy: 1.0000\n",
      "Epoch 46/100\n",
      "3/3 [==============================] - 0s 12ms/step - loss: 0.8645 - accuracy: 0.9368 - val_loss: 0.8451 - val_accuracy: 1.0000\n",
      "Epoch 47/100\n",
      "3/3 [==============================] - 0s 12ms/step - loss: 0.8539 - accuracy: 0.9368 - val_loss: 0.8330 - val_accuracy: 1.0000\n",
      "Epoch 48/100\n",
      "3/3 [==============================] - 0s 11ms/step - loss: 0.8431 - accuracy: 0.9368 - val_loss: 0.8192 - val_accuracy: 0.9808\n",
      "Epoch 49/100\n",
      "3/3 [==============================] - 0s 13ms/step - loss: 0.8325 - accuracy: 0.9263 - val_loss: 0.8072 - val_accuracy: 0.9808\n",
      "Epoch 50/100\n",
      "3/3 [==============================] - 0s 13ms/step - loss: 0.8206 - accuracy: 0.9263 - val_loss: 0.7956 - val_accuracy: 1.0000\n",
      "Epoch 51/100\n",
      "3/3 [==============================] - 0s 13ms/step - loss: 0.8088 - accuracy: 0.9263 - val_loss: 0.7849 - val_accuracy: 1.0000\n",
      "Epoch 52/100\n",
      "3/3 [==============================] - 0s 13ms/step - loss: 0.7973 - accuracy: 0.9263 - val_loss: 0.7717 - val_accuracy: 1.0000\n",
      "Epoch 53/100\n",
      "3/3 [==============================] - 0s 12ms/step - loss: 0.7845 - accuracy: 0.9263 - val_loss: 0.7568 - val_accuracy: 1.0000\n",
      "Epoch 54/100\n",
      "3/3 [==============================] - 0s 13ms/step - loss: 0.7725 - accuracy: 0.9158 - val_loss: 0.7414 - val_accuracy: 0.9615\n",
      "Epoch 55/100\n",
      "3/3 [==============================] - 0s 15ms/step - loss: 0.7601 - accuracy: 0.9053 - val_loss: 0.7280 - val_accuracy: 0.9615\n",
      "Epoch 56/100\n",
      "3/3 [==============================] - 0s 15ms/step - loss: 0.7478 - accuracy: 0.9053 - val_loss: 0.7145 - val_accuracy: 0.9615\n",
      "Epoch 57/100\n",
      "3/3 [==============================] - 0s 14ms/step - loss: 0.7352 - accuracy: 0.9053 - val_loss: 0.7014 - val_accuracy: 0.9615\n",
      "Epoch 58/100\n",
      "3/3 [==============================] - 0s 15ms/step - loss: 0.7222 - accuracy: 0.9053 - val_loss: 0.6878 - val_accuracy: 0.9615\n",
      "Epoch 59/100\n"
     ]
    },
    {
     "name": "stdout",
     "output_type": "stream",
     "text": [
      "3/3 [==============================] - 0s 12ms/step - loss: 0.7109 - accuracy: 0.8947 - val_loss: 0.6726 - val_accuracy: 0.9423\n",
      "Epoch 60/100\n",
      "3/3 [==============================] - 0s 12ms/step - loss: 0.6976 - accuracy: 0.9053 - val_loss: 0.6610 - val_accuracy: 0.9615\n",
      "Epoch 61/100\n",
      "3/3 [==============================] - 0s 11ms/step - loss: 0.6849 - accuracy: 0.9053 - val_loss: 0.6473 - val_accuracy: 0.9615\n",
      "Epoch 62/100\n",
      "3/3 [==============================] - 0s 13ms/step - loss: 0.6728 - accuracy: 0.9053 - val_loss: 0.6350 - val_accuracy: 0.9615\n",
      "Epoch 63/100\n",
      "3/3 [==============================] - 0s 12ms/step - loss: 0.6607 - accuracy: 0.9053 - val_loss: 0.6209 - val_accuracy: 0.9615\n",
      "Epoch 64/100\n",
      "3/3 [==============================] - 0s 10ms/step - loss: 0.6489 - accuracy: 0.9053 - val_loss: 0.6101 - val_accuracy: 0.9615\n",
      "Epoch 65/100\n",
      "3/3 [==============================] - 0s 11ms/step - loss: 0.6368 - accuracy: 0.9053 - val_loss: 0.5970 - val_accuracy: 0.9615\n",
      "Epoch 66/100\n",
      "3/3 [==============================] - 0s 12ms/step - loss: 0.6252 - accuracy: 0.9053 - val_loss: 0.5854 - val_accuracy: 0.9615\n",
      "Epoch 67/100\n",
      "3/3 [==============================] - 0s 14ms/step - loss: 0.6136 - accuracy: 0.9158 - val_loss: 0.5733 - val_accuracy: 0.9615\n",
      "Epoch 68/100\n",
      "3/3 [==============================] - 0s 16ms/step - loss: 0.6021 - accuracy: 0.9158 - val_loss: 0.5617 - val_accuracy: 0.9615\n",
      "Epoch 69/100\n",
      "3/3 [==============================] - 0s 17ms/step - loss: 0.5909 - accuracy: 0.9158 - val_loss: 0.5492 - val_accuracy: 0.9615\n",
      "Epoch 70/100\n",
      "3/3 [==============================] - 0s 15ms/step - loss: 0.5800 - accuracy: 0.9158 - val_loss: 0.5385 - val_accuracy: 0.9615\n",
      "Epoch 71/100\n",
      "3/3 [==============================] - 0s 11ms/step - loss: 0.5703 - accuracy: 0.9158 - val_loss: 0.5297 - val_accuracy: 0.9808\n",
      "Epoch 72/100\n",
      "3/3 [==============================] - 0s 12ms/step - loss: 0.5591 - accuracy: 0.9158 - val_loss: 0.5176 - val_accuracy: 0.9615\n",
      "Epoch 73/100\n",
      "3/3 [==============================] - 0s 11ms/step - loss: 0.5486 - accuracy: 0.9158 - val_loss: 0.5060 - val_accuracy: 0.9615\n",
      "Epoch 74/100\n",
      "3/3 [==============================] - 0s 12ms/step - loss: 0.5392 - accuracy: 0.9053 - val_loss: 0.4955 - val_accuracy: 0.9615\n",
      "Epoch 75/100\n",
      "3/3 [==============================] - 0s 12ms/step - loss: 0.5296 - accuracy: 0.9158 - val_loss: 0.4866 - val_accuracy: 0.9615\n",
      "Epoch 76/100\n",
      "3/3 [==============================] - 0s 12ms/step - loss: 0.5193 - accuracy: 0.9158 - val_loss: 0.4807 - val_accuracy: 1.0000\n",
      "Epoch 77/100\n",
      "3/3 [==============================] - 0s 11ms/step - loss: 0.5110 - accuracy: 0.9263 - val_loss: 0.4735 - val_accuracy: 1.0000\n",
      "Epoch 78/100\n",
      "3/3 [==============================] - 0s 12ms/step - loss: 0.5022 - accuracy: 0.9263 - val_loss: 0.4627 - val_accuracy: 1.0000\n",
      "Epoch 79/100\n",
      "3/3 [==============================] - 0s 11ms/step - loss: 0.4927 - accuracy: 0.9158 - val_loss: 0.4497 - val_accuracy: 0.9615\n",
      "Epoch 80/100\n",
      "3/3 [==============================] - 0s 12ms/step - loss: 0.4848 - accuracy: 0.9158 - val_loss: 0.4411 - val_accuracy: 0.9808\n",
      "Epoch 81/100\n",
      "3/3 [==============================] - 0s 12ms/step - loss: 0.4767 - accuracy: 0.9158 - val_loss: 0.4357 - val_accuracy: 1.0000\n",
      "Epoch 82/100\n",
      "3/3 [==============================] - 0s 11ms/step - loss: 0.4679 - accuracy: 0.9263 - val_loss: 0.4272 - val_accuracy: 1.0000\n",
      "Epoch 83/100\n",
      "3/3 [==============================] - 0s 11ms/step - loss: 0.4597 - accuracy: 0.9263 - val_loss: 0.4209 - val_accuracy: 1.0000\n",
      "Epoch 84/100\n",
      "3/3 [==============================] - 0s 11ms/step - loss: 0.4519 - accuracy: 0.9263 - val_loss: 0.4119 - val_accuracy: 1.0000\n",
      "Epoch 85/100\n",
      "3/3 [==============================] - 0s 10ms/step - loss: 0.4442 - accuracy: 0.9263 - val_loss: 0.4048 - val_accuracy: 1.0000\n",
      "Epoch 86/100\n",
      "3/3 [==============================] - 0s 10ms/step - loss: 0.4368 - accuracy: 0.9263 - val_loss: 0.3969 - val_accuracy: 1.0000\n",
      "Epoch 87/100\n",
      "3/3 [==============================] - 0s 11ms/step - loss: 0.4300 - accuracy: 0.9263 - val_loss: 0.3885 - val_accuracy: 1.0000\n",
      "Epoch 88/100\n",
      "3/3 [==============================] - 0s 11ms/step - loss: 0.4223 - accuracy: 0.9263 - val_loss: 0.3825 - val_accuracy: 1.0000\n",
      "Epoch 89/100\n",
      "3/3 [==============================] - 0s 11ms/step - loss: 0.4155 - accuracy: 0.9368 - val_loss: 0.3795 - val_accuracy: 1.0000\n",
      "Epoch 90/100\n",
      "3/3 [==============================] - 0s 12ms/step - loss: 0.4084 - accuracy: 0.9368 - val_loss: 0.3736 - val_accuracy: 1.0000\n",
      "Epoch 91/100\n",
      "3/3 [==============================] - 0s 12ms/step - loss: 0.4018 - accuracy: 0.9368 - val_loss: 0.3637 - val_accuracy: 1.0000\n",
      "Epoch 92/100\n",
      "3/3 [==============================] - 0s 13ms/step - loss: 0.3957 - accuracy: 0.9263 - val_loss: 0.3554 - val_accuracy: 1.0000\n",
      "Epoch 93/100\n",
      "3/3 [==============================] - 0s 11ms/step - loss: 0.3888 - accuracy: 0.9368 - val_loss: 0.3521 - val_accuracy: 1.0000\n",
      "Epoch 94/100\n",
      "3/3 [==============================] - 0s 11ms/step - loss: 0.3819 - accuracy: 0.9474 - val_loss: 0.3485 - val_accuracy: 1.0000\n",
      "Epoch 95/100\n",
      "3/3 [==============================] - 0s 11ms/step - loss: 0.3754 - accuracy: 0.9474 - val_loss: 0.3429 - val_accuracy: 1.0000\n",
      "Epoch 96/100\n",
      "3/3 [==============================] - 0s 11ms/step - loss: 0.3692 - accuracy: 0.9474 - val_loss: 0.3352 - val_accuracy: 1.0000\n",
      "Epoch 97/100\n",
      "3/3 [==============================] - 0s 10ms/step - loss: 0.3630 - accuracy: 0.9474 - val_loss: 0.3285 - val_accuracy: 1.0000\n",
      "Epoch 98/100\n",
      "3/3 [==============================] - 0s 11ms/step - loss: 0.3580 - accuracy: 0.9474 - val_loss: 0.3256 - val_accuracy: 1.0000\n",
      "Epoch 99/100\n",
      "3/3 [==============================] - 0s 11ms/step - loss: 0.3519 - accuracy: 0.9474 - val_loss: 0.3165 - val_accuracy: 1.0000\n",
      "Epoch 100/100\n",
      "3/3 [==============================] - 0s 11ms/step - loss: 0.3451 - accuracy: 0.9474 - val_loss: 0.3117 - val_accuracy: 1.0000\n"
     ]
    },
    {
     "data": {
      "text/plain": [
       "<keras.callbacks.History at 0x153bca9b3d0>"
      ]
     },
     "execution_count": 9,
     "metadata": {},
     "output_type": "execute_result"
    }
   ],
   "source": [
    "model.fit(\n",
    "    X_train[:-3],\n",
    "    y_train[:-3],\n",
    "    epochs = 100,\n",
    "    validation_split = 0.35\n",
    ")"
   ]
  },
  {
   "cell_type": "code",
   "execution_count": 10,
   "id": "99b3d4c3",
   "metadata": {},
   "outputs": [
    {
     "name": "stdout",
     "output_type": "stream",
     "text": [
      "1/1 [==============================] - 0s 68ms/step\n",
      "\n",
      "Expected:\n",
      " [[1. 0. 0.]\n",
      " [0. 1. 0.]\n",
      " [1. 0. 0.]]\n",
      "Actual:\n",
      "  [[1 0 0]\n",
      " [0 1 0]\n",
      " [1 0 0]]\n"
     ]
    }
   ],
   "source": [
    "X_predict = X_train[-3:]\n",
    "y_predict = y_train[-3:]\n",
    "\n",
    "#np.set_printoptions(suppress=True)\n",
    "output = (model.predict(X_predict) > 0.5).astype(\"int32\")\n",
    "\n",
    "print(\"\")\n",
    "print(f\"Expected:\\n {y_predict}\")\n",
    "print(\"Actual:\\n \", output)"
   ]
  },
  {
   "cell_type": "code",
   "execution_count": null,
   "id": "20aca6b3",
   "metadata": {},
   "outputs": [],
   "source": []
  }
 ],
 "metadata": {
  "kernelspec": {
   "display_name": "Python 3 (ipykernel)",
   "language": "python",
   "name": "python3"
  },
  "language_info": {
   "codemirror_mode": {
    "name": "ipython",
    "version": 3
   },
   "file_extension": ".py",
   "mimetype": "text/x-python",
   "name": "python",
   "nbconvert_exporter": "python",
   "pygments_lexer": "ipython3",
   "version": "3.9.7"
  }
 },
 "nbformat": 4,
 "nbformat_minor": 5
}
